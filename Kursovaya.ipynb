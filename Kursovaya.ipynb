{
  "nbformat": 4,
  "nbformat_minor": 0,
  "metadata": {
    "colab": {
      "name": "Kursovaya.ipynb",
      "provenance": [],
      "collapsed_sections": [],
      "authorship_tag": "ABX9TyP3LlHBsTiTLsQuQMm8UMYM",
      "include_colab_link": true
    },
    "kernelspec": {
      "name": "python3",
      "display_name": "Python 3"
    },
    "language_info": {
      "name": "python"
    }
  },
  "cells": [
    {
      "cell_type": "markdown",
      "metadata": {
        "id": "view-in-github",
        "colab_type": "text"
      },
      "source": [
        "<a href=\"https://colab.research.google.com/github/LarryGamer/KursovayaTPR/blob/main/Kursovaya.ipynb\" target=\"_parent\"><img src=\"https://colab.research.google.com/assets/colab-badge.svg\" alt=\"Open In Colab\"/></a>"
      ]
    },
    {
      "cell_type": "code",
      "metadata": {
        "id": "2InOsB4HT6hf"
      },
      "source": [
        "import numpy as np\n",
        "import pandas as pd\n",
        "import matplotlib.pyplot as plt\n",
        "from collections import Counter\n",
        "import copy"
      ],
      "execution_count": null,
      "outputs": []
    },
    {
      "cell_type": "code",
      "metadata": {
        "id": "SsrAZyibUDNX"
      },
      "source": [
        "first_count, second_count = 100, 200\n",
        "first_mean, first_std = (10, 14), (3, 4)\n",
        "second_min, second_max = (30, 56), (46, 84)\n",
        "\n",
        "first = np.array([[np.random.normal(first_mean[0], \n",
        "                                    first_std[0], first_count)],\n",
        "                  [np.random.normal(first_mean[1], \n",
        "                                    first_std[1], first_count)]])\n",
        "\n",
        "second = np.array([[np.random.uniform(second_min[0], \n",
        "                                     second_max[0], second_count)], \n",
        "                   [np.random.uniform(second_min[1], \n",
        "                                     second_max[1], second_count)]])"
      ],
      "execution_count": null,
      "outputs": []
    },
    {
      "cell_type": "code",
      "metadata": {
        "id": "xr09Qs9MUEOE"
      },
      "source": [
        "def makedata(array, label):\n",
        "    \"\"\"Функция добавляющая метки к векторам\n",
        "    array: массив векторов объектов [np.array]\n",
        "    label: метка [object]\"\"\"\n",
        "    return np.array([array[0][0], array[1][0], np.array([label for i in range(array.shape[2])]), \n",
        "                       np.array(['' for i in range(array.shape[2])])], dtype=object).T"
      ],
      "execution_count": null,
      "outputs": []
    },
    {
      "cell_type": "code",
      "metadata": {
        "id": "uS3CTiHZUGKa"
      },
      "source": [
        "#Создание первого и второго массива\n",
        "first_data = makedata(first, 'first')\n",
        "second_data = makedata(second, 'second')\n",
        "data = np.concatenate([first_data, second_data])\n",
        "#объединение в один массив\n",
        "df_generated = pd.DataFrame(columns=['x', 'y', 'actual', 'prediction'], data=data)"
      ],
      "execution_count": null,
      "outputs": []
    },
    {
      "cell_type": "code",
      "metadata": {
        "colab": {
          "base_uri": "https://localhost:8080/",
          "height": 265
        },
        "id": "df0Gc92rUL6p",
        "outputId": "1ee1e545-07c1-4c42-bd91-68d82c11a1c6"
      },
      "source": [
        "plt.scatter(first_data.T[0], first_data.T[1], color='orange')\n",
        "plt.scatter(second_data.T[0], second_data.T[1])\n",
        "plt.scatter([25], [40], color='red')\n",
        "\n",
        "plt.show()"
      ],
      "execution_count": null,
      "outputs": [
        {
          "output_type": "display_data",
          "data": {
            "image/png": "[encoded data removed]",
            "text/plain": [
              "<Figure size 432x288 with 1 Axes>"
            ]
          },
          "metadata": {
            "tags": [],
            "needs_background": "light"
          }
        }
      ]
    },
    {
      "cell_type": "code",
      "metadata": {
        "id": "2SC1-XGlUN7g"
      },
      "source": [
        "def distance(obj1, obj2):\n",
        "    return np.sqrt((obj1[0] - obj2[0]) ** 2 + (obj1[1] - obj2[1]) ** 2)"
      ],
      "execution_count": null,
      "outputs": []
    },
    {
      "cell_type": "code",
      "metadata": {
        "id": "KRMjFIkLUPLf"
      },
      "source": [
        "def knn_classify(obj, data, k=7):\n",
        "    distances_arg = np.argsort(np.array([distance(obj, d) for d in data]))\n",
        "    first_count, second_count = 0, 0\n",
        "    for arg in distances_arg[:k]:\n",
        "        if data[arg][2] == 'first':\n",
        "            first_count += 1\n",
        "        elif data[arg][2] == 'second':\n",
        "            second_count += 1\n",
        "            \n",
        "    return 'first' if first_count > second_count else 'second'"
      ],
      "execution_count": null,
      "outputs": []
    },
    {
      "cell_type": "code",
      "metadata": {
        "id": "DzbJ15KlUR5c"
      },
      "source": [
        "def error_count(data):\n",
        "    result = 0\n",
        "    for d in data:\n",
        "        if d[2] != d[3]:\n",
        "            result += 1\n",
        "            \n",
        "    return result"
      ],
      "execution_count": null,
      "outputs": []
    },
    {
      "cell_type": "code",
      "metadata": {
        "colab": {
          "base_uri": "https://localhost:8080/",
          "height": 419
        },
        "id": "cUbhEVZroi6M",
        "outputId": "c938c840-62c1-4b9f-da55-88cf0408cc87"
      },
      "source": [
        "data_pred = data.copy()\n",
        "for d in data_pred:\n",
        "    d[3] = knn_classify(d, data_pred)\n",
        "    \n",
        "df_pred = pd.DataFrame(columns=df_generated.columns, data=data_pred)\n",
        "df_pred"
      ],
      "execution_count": null,
      "outputs": [
        {
          "output_type": "execute_result",
          "data": {
            "text/html": [
              "<div>\n",
              "<style scoped>\n",
              "    .dataframe tbody tr th:only-of-type {\n",
              "        vertical-align: middle;\n",
              "    }\n",
              "\n",
              "    .dataframe tbody tr th {\n",
              "        vertical-align: top;\n",
              "    }\n",
              "\n",
              "    .dataframe thead th {\n",
              "        text-align: right;\n",
              "    }\n",
              "</style>\n",
              "<table border=\"1\" class=\"dataframe\">\n",
              "  <thead>\n",
              "    <tr style=\"text-align: right;\">\n",
              "      <th></th>\n",
              "      <th>x</th>\n",
              "      <th>y</th>\n",
              "      <th>actual</th>\n",
              "      <th>prediction</th>\n",
              "    </tr>\n",
              "  </thead>\n",
              "  <tbody>\n",
              "    <tr>\n",
              "      <th>0</th>\n",
              "      <td>10.5894</td>\n",
              "      <td>12.7381</td>\n",
              "      <td>first</td>\n",
              "      <td>first</td>\n",
              "    </tr>\n",
              "    <tr>\n",
              "      <th>1</th>\n",
              "      <td>7.42672</td>\n",
              "      <td>22.0643</td>\n",
              "      <td>first</td>\n",
              "      <td>first</td>\n",
              "    </tr>\n",
              "    <tr>\n",
              "      <th>2</th>\n",
              "      <td>11.3499</td>\n",
              "      <td>13.0225</td>\n",
              "      <td>first</td>\n",
              "      <td>first</td>\n",
              "    </tr>\n",
              "    <tr>\n",
              "      <th>3</th>\n",
              "      <td>6.79884</td>\n",
              "      <td>16.0485</td>\n",
              "      <td>first</td>\n",
              "      <td>first</td>\n",
              "    </tr>\n",
              "    <tr>\n",
              "      <th>4</th>\n",
              "      <td>6.63625</td>\n",
              "      <td>9.94403</td>\n",
              "      <td>first</td>\n",
              "      <td>first</td>\n",
              "    </tr>\n",
              "    <tr>\n",
              "      <th>...</th>\n",
              "      <td>...</td>\n",
              "      <td>...</td>\n",
              "      <td>...</td>\n",
              "      <td>...</td>\n",
              "    </tr>\n",
              "    <tr>\n",
              "      <th>295</th>\n",
              "      <td>44.9295</td>\n",
              "      <td>61.0445</td>\n",
              "      <td>second</td>\n",
              "      <td>second</td>\n",
              "    </tr>\n",
              "    <tr>\n",
              "      <th>296</th>\n",
              "      <td>45.5005</td>\n",
              "      <td>80.6764</td>\n",
              "      <td>second</td>\n",
              "      <td>second</td>\n",
              "    </tr>\n",
              "    <tr>\n",
              "      <th>297</th>\n",
              "      <td>40.59</td>\n",
              "      <td>79.587</td>\n",
              "      <td>second</td>\n",
              "      <td>second</td>\n",
              "    </tr>\n",
              "    <tr>\n",
              "      <th>298</th>\n",
              "      <td>39.1494</td>\n",
              "      <td>72.3237</td>\n",
              "      <td>second</td>\n",
              "      <td>second</td>\n",
              "    </tr>\n",
              "    <tr>\n",
              "      <th>299</th>\n",
              "      <td>44.3527</td>\n",
              "      <td>68.2587</td>\n",
              "      <td>second</td>\n",
              "      <td>second</td>\n",
              "    </tr>\n",
              "  </tbody>\n",
              "</table>\n",
              "<p>300 rows × 4 columns</p>\n",
              "</div>"
            ],
            "text/plain": [
              "           x        y  actual prediction\n",
              "0    10.5894  12.7381   first      first\n",
              "1    7.42672  22.0643   first      first\n",
              "2    11.3499  13.0225   first      first\n",
              "3    6.79884  16.0485   first      first\n",
              "4    6.63625  9.94403   first      first\n",
              "..       ...      ...     ...        ...\n",
              "295  44.9295  61.0445  second     second\n",
              "296  45.5005  80.6764  second     second\n",
              "297    40.59   79.587  second     second\n",
              "298  39.1494  72.3237  second     second\n",
              "299  44.3527  68.2587  second     second\n",
              "\n",
              "[300 rows x 4 columns]"
            ]
          },
          "metadata": {
            "tags": []
          },
          "execution_count": 10
        }
      ]
    },
    {
      "cell_type": "code",
      "metadata": {
        "id": "LbCEf40xUUd-"
      },
      "source": [
        "data_pred = data.copy()\n",
        "for d in data_pred:\n",
        "    d[3] = knn_classify(d, data_pred)\n",
        "    "
      ],
      "execution_count": null,
      "outputs": []
    },
    {
      "cell_type": "code",
      "metadata": {
        "colab": {
          "base_uri": "https://localhost:8080/"
        },
        "id": "q-9ZfGPrUV26",
        "outputId": "3a952bbe-3667-48eb-ff19-9e85df87fa96"
      },
      "source": [
        "error_count(data_pred)"
      ],
      "execution_count": null,
      "outputs": [
        {
          "output_type": "execute_result",
          "data": {
            "text/plain": [
              "0"
            ]
          },
          "metadata": {
            "tags": []
          },
          "execution_count": 12
        }
      ]
    },
    {
      "cell_type": "code",
      "metadata": {
        "colab": {
          "base_uri": "https://localhost:8080/",
          "height": 35
        },
        "id": "qCPW_W6jUY4q",
        "outputId": "d5fc9ace-907f-4e0e-c489-989a8f44b6d2"
      },
      "source": [
        "\n",
        "knn_classify([80, 50], data)"
      ],
      "execution_count": null,
      "outputs": [
        {
          "output_type": "execute_result",
          "data": {
            "application/vnd.google.colaboratory.intrinsic+json": {
              "type": "string"
            },
            "text/plain": [
              "'second'"
            ]
          },
          "metadata": {
            "tags": []
          },
          "execution_count": 14
        }
      ]
    },
    {
      "cell_type": "code",
      "metadata": {
        "colab": {
          "base_uri": "https://localhost:8080/",
          "height": 35
        },
        "id": "k_KuMnpTTsGl",
        "outputId": "29437c3a-4256-406d-f681-33bba9b0fbdc"
      },
      "source": [
        "knn_classify([25, 40], data)"
      ],
      "execution_count": null,
      "outputs": [
        {
          "output_type": "execute_result",
          "data": {
            "application/vnd.google.colaboratory.intrinsic+json": {
              "type": "string"
            },
            "text/plain": [
              "'second'"
            ]
          },
          "metadata": {
            "tags": []
          },
          "execution_count": 23
        }
      ]
    }
  ]
}